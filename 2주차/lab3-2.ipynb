{
 "cells": [
  {
   "cell_type": "code",
   "execution_count": 2,
   "metadata": {},
   "outputs": [],
   "source": [
    "import tensorflow as tf"
   ]
  },
  {
   "cell_type": "code",
   "execution_count": 6,
   "metadata": {},
   "outputs": [],
   "source": [
    "x_data = [1,2,3]\n",
    "y_data = [1,2,3]\n",
    "\n",
    "W = tf.Variable(tf.random_normal([1]), name=\"weight\")\n",
    "\n",
    "X = tf.placeholder(tf.float32)\n",
    "Y = tf.placeholder(tf.float32)"
   ]
  },
  {
   "cell_type": "code",
   "execution_count": 7,
   "metadata": {},
   "outputs": [],
   "source": [
    "# Our hypothesis for linear model X * W\n",
    "hypothesis = X * W"
   ]
  },
  {
   "cell_type": "code",
   "execution_count": 8,
   "metadata": {},
   "outputs": [],
   "source": [
    "# cost/loss function\n",
    "cost = tf.reduce_mean(tf.square(hypothesis - Y))"
   ]
  },
  {
   "cell_type": "code",
   "execution_count": 9,
   "metadata": {},
   "outputs": [],
   "source": [
    "# Minimize: Gradient Descent using derivative: W -= learning_rate * derivative\n",
    "learning_rate = 0.1\n",
    "gradient = tf.reduce_mean((W * X - Y) * X)\n",
    "descent = W - learning_rate * gradient\n",
    "update = W.assign(descent)"
   ]
  },
  {
   "cell_type": "code",
   "execution_count": 13,
   "metadata": {},
   "outputs": [
    {
     "name": "stdout",
     "output_type": "stream",
     "text": [
      "0 4.8104925 [0.4585104]\n",
      "1 1.368318 [0.7112056]\n",
      "2 0.38921022 [0.84597635]\n",
      "3 0.110708654 [0.9178541]\n",
      "4 0.03149045 [0.95618886]\n",
      "5 0.008957281 [0.9766341]\n",
      "6 0.0025478385 [0.98753816]\n",
      "7 0.0007247201 [0.99335366]\n",
      "8 0.00020614348 [0.9964553]\n",
      "9 5.8634952e-05 [0.99810946]\n",
      "10 1.667888e-05 [0.9989917]\n",
      "11 4.744193e-06 [0.99946225]\n",
      "12 1.3493709e-06 [0.9997132]\n",
      "13 3.839001e-07 [0.99984705]\n",
      "14 1.0912775e-07 [0.9999184]\n",
      "15 3.1082063e-08 [0.9999565]\n",
      "16 8.845504e-09 [0.9999768]\n",
      "17 2.511566e-09 [0.99998766]\n",
      "18 7.089381e-10 [0.99999344]\n",
      "19 1.9905144e-10 [0.9999965]\n",
      "20 5.7294613e-11 [0.9999981]\n"
     ]
    }
   ],
   "source": [
    "# Launch the graph in a session.\n",
    "with tf.Session() as sess:\n",
    "    # Initializes global variables in the graph.\n",
    "    sess.run(tf.global_variables_initializer())\n",
    "\n",
    "    for step in range(21):\n",
    "        _, cost_val, W_val = sess.run(\n",
    "            [update, cost, W], feed_dict={X: x_data, Y: y_data}\n",
    "        )\n",
    "        print(step, cost_val, W_val)"
   ]
  },
  {
   "cell_type": "code",
   "execution_count": null,
   "metadata": {},
   "outputs": [],
   "source": []
  }
 ],
 "metadata": {
  "kernelspec": {
   "display_name": "Python [conda env:tf_cpu] *",
   "language": "python",
   "name": "conda-env-tf_cpu-py"
  },
  "language_info": {
   "codemirror_mode": {
    "name": "ipython",
    "version": 3
   },
   "file_extension": ".py",
   "mimetype": "text/x-python",
   "name": "python",
   "nbconvert_exporter": "python",
   "pygments_lexer": "ipython3",
   "version": "3.6.8"
  }
 },
 "nbformat": 4,
 "nbformat_minor": 2
}
